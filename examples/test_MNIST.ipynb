{
 "cells": [
  {
   "cell_type": "markdown",
   "metadata": {},
   "source": [
    "# MNIST on the Healpix sphere"
   ]
  },
  {
   "cell_type": "markdown",
   "metadata": {},
   "source": [
    "In this notebook we show how to use NNhealpix to reproduce a classic NN test on the Healpix sphere: the recognition of handwritten digits from the MNIST dataset."
   ]
  },
  {
   "cell_type": "code",
   "execution_count": 1,
   "metadata": {},
   "outputs": [],
   "source": [
    "# import tensorflow.keras\n",
    "from tensorflow.keras.datasets import mnist\n",
    "# import tensorflow.keras.layers\n",
    "from nnhealpix.projections import img2healpix, img2healpix_planar\n",
    "import matplotlib.pyplot as plt\n",
    "import numpy as np\n",
    "import healpy as hp\n",
    "from tensorflow.keras.utils import to_categorical\n",
    "import nnhealpix.layers\n",
    "from tensorflow.keras import backend as K\n",
    "import tensorflow as tf\n",
    "# K.common.set_image_dim_ordering('th')\n",
    "tf.random.set_seed(7) # in order to reproduce the same results"
   ]
  },
  {
   "cell_type": "markdown",
   "metadata": {},
   "source": [
    "### Download the MNIST data and take a subset of it"
   ]
  },
  {
   "cell_type": "code",
   "execution_count": 2,
   "metadata": {},
   "outputs": [
    {
     "name": "stdout",
     "output_type": "stream",
     "text": [
      "(10000, 10)\n"
     ]
    }
   ],
   "source": [
    "Ntrain = 10000\n",
    "Ntest = 100\n",
    "(X_train_temp, y_train), (X_test_temp, y_test) = mnist.load_data()\n",
    "X_train_temp = X_train_temp[0:Ntrain]\n",
    "y_train = y_train[0:Ntrain]\n",
    "X_test_temp = X_test_temp[0:Ntest]\n",
    "y_test = y_test[0:Ntest]\n",
    "y_train = to_categorical(y_train)\n",
    "y_test = to_categorical(y_test)\n",
    "print(y_train.shape)"
   ]
  },
  {
   "cell_type": "markdown",
   "metadata": {},
   "source": [
    "### Project the dataset on healpix map\n",
    "\n",
    "The projection is done at on the same portion of the Healpix map for all the cases."
   ]
  },
  {
   "cell_type": "code",
   "execution_count": 3,
   "metadata": {},
   "outputs": [],
   "source": [
    "nside = 16\n",
    "X_train_hp = img2healpix_planar(X_train_temp, nside, 90, 0, 100, 100)\n",
    "X_test_hp = img2healpix_planar(X_test_temp, nside, 90, 0, 100, 100)"
   ]
  },
  {
   "cell_type": "markdown",
   "metadata": {},
   "source": [
    "Here we plot an image as an example: first as a 2D flat image, then as a Healpix full-sky map with the digit projected along the Equator."
   ]
  },
  {
   "cell_type": "code",
   "execution_count": 4,
   "metadata": {},
   "outputs": [
    {
     "data": {
      "image/png": "[encoded data removed]",
      "text/plain": [
       "<Figure size 432x288 with 1 Axes>"
      ]
     },
     "metadata": {
      "needs_background": "light"
     },
     "output_type": "display_data"
    },
    {
     "data": {
      "image/png": "[encoded data removed]",
      "text/plain": [
       "<Figure size 612x388.8 with 2 Axes>"
      ]
     },
     "metadata": {
      "needs_background": "light"
     },
     "output_type": "display_data"
    }
   ],
   "source": [
    "plt.imshow(X_train_temp[1])\n",
    "hp.mollview(X_train_hp[1])"
   ]
  },
  {
   "cell_type": "markdown",
   "metadata": {},
   "source": [
    "### Build the train, test, and validation sets"
   ]
  },
  {
   "cell_type": "code",
   "execution_count": 5,
   "metadata": {},
   "outputs": [],
   "source": [
    "seed = 7\n",
    "np.random.seed(seed)"
   ]
  },
  {
   "cell_type": "code",
   "execution_count": 6,
   "metadata": {},
   "outputs": [],
   "source": [
    "X_train = X_train_hp.reshape(X_train_hp.shape[0], len(X_train_hp[0]), 1).astype('float32')\n",
    "X_test = X_test_hp.reshape(X_test_hp.shape[0], len(X_train_hp[0]), 1).astype('float32')"
   ]
  },
  {
   "cell_type": "code",
   "execution_count": 7,
   "metadata": {},
   "outputs": [
    {
     "name": "stdout",
     "output_type": "stream",
     "text": [
      "(10000, 3072, 1) (3072, 1) (10000, 10)\n"
     ]
    }
   ],
   "source": [
    "X_train = X_train / 255\n",
    "X_test = X_test / 255\n",
    "num_classes = y_train.shape[1]\n",
    "shape = (len(X_train_hp[0]), 1)\n",
    "print(X_train.shape, shape, y_train.shape)"
   ]
  },
  {
   "cell_type": "markdown",
   "metadata": {},
   "source": [
    "### Build a NN architecture"
   ]
  },
  {
   "cell_type": "code",
   "execution_count": 8,
   "metadata": {},
   "outputs": [
    {
     "name": "stdout",
     "output_type": "stream",
     "text": [
      "Model: \"model\"\n",
      "_________________________________________________________________\n",
      "Layer (type)                 Output Shape              Param #   \n",
      "=================================================================\n",
      "input_1 (InputLayer)         [(None, 3072, 1)]         0         \n",
      "_________________________________________________________________\n",
      "order_map (OrderMap)         (None, 27648, 1)          0         \n",
      "_________________________________________________________________\n",
      "conv1d (Conv1D)              (None, 3072, 32)          288       \n",
      "_________________________________________________________________\n",
      "activation (Activation)      (None, 3072, 32)          0         \n",
      "_________________________________________________________________\n",
      "order_map_1 (OrderMap)       (None, 3072, 32)          0         \n",
      "_________________________________________________________________\n",
      "max_pooling1d (MaxPooling1D) (None, 768, 32)           0         \n",
      "_________________________________________________________________\n",
      "dropout (Dropout)            (None, 768, 32)           0         \n",
      "_________________________________________________________________\n",
      "flatten (Flatten)            (None, 24576)             0         \n",
      "_________________________________________________________________\n",
      "dense (Dense)                (None, 128)               3145856   \n",
      "_________________________________________________________________\n",
      "activation_1 (Activation)    (None, 128)               0         \n",
      "_________________________________________________________________\n",
      "dense_1 (Dense)              (None, 10)                1290      \n",
      "_________________________________________________________________\n",
      "activation_2 (Activation)    (None, 10)                0         \n",
      "=================================================================\n",
      "Total params: 3,147,434\n",
      "Trainable params: 3,147,434\n",
      "Non-trainable params: 0\n",
      "_________________________________________________________________\n"
     ]
    }
   ],
   "source": [
    "inputs = tf.keras.layers.Input(shape)\n",
    "x = nnhealpix.layers.ConvNeighbours(nside, filters=32, kernel_size=9)(inputs)\n",
    "x = tf.keras.layers.Activation('relu')(x)\n",
    "x = nnhealpix.layers.MaxPooling(nside, 8)(x)\n",
    "x = tf.keras.layers.Dropout(0.2)(x)\n",
    "x = tf.keras.layers.Flatten()(x)\n",
    "x = tf.keras.layers.Dense(128)(x)\n",
    "x = tf.keras.layers.Activation('relu')(x)\n",
    "x = tf.keras.layers.Dense(num_classes)(x)\n",
    "out = tf.keras.layers.Activation('softmax')(x)\n",
    "model = tf.keras.models.Model(inputs=inputs, outputs=out)\n",
    "model.compile(loss=tf.keras.losses.mse, optimizer=tf.keras.optimizers.Adam(lr=0.001), metrics=['accuracy'])\n",
    "model.summary()"
   ]
  },
  {
   "cell_type": "markdown",
   "metadata": {},
   "source": [
    "### …and train the network"
   ]
  },
  {
   "cell_type": "code",
   "execution_count": 9,
   "metadata": {},
   "outputs": [
    {
     "name": "stdout",
     "output_type": "stream",
     "text": [
      "Train on 10000 samples, validate on 100 samples\n",
      "Epoch 1/12\n",
      "10000/10000 [==============================] - 3s 252us/sample - loss: 0.0311 - accuracy: 0.7922 - val_loss: 0.0145 - val_accuracy: 0.8900\n",
      "Epoch 2/12\n",
      "10000/10000 [==============================] - 2s 158us/sample - loss: 0.0132 - accuracy: 0.9128 - val_loss: 0.0107 - val_accuracy: 0.9400\n",
      "Epoch 3/12\n",
      "10000/10000 [==============================] - 2s 159us/sample - loss: 0.0108 - accuracy: 0.9318 - val_loss: 0.0081 - val_accuracy: 0.9300\n",
      "Epoch 4/12\n",
      "10000/10000 [==============================] - 2s 152us/sample - loss: 0.0087 - accuracy: 0.9464 - val_loss: 0.0083 - val_accuracy: 0.9400\n",
      "Epoch 5/12\n",
      "10000/10000 [==============================] - 2s 150us/sample - loss: 0.0073 - accuracy: 0.9551 - val_loss: 0.0059 - val_accuracy: 0.9600\n",
      "Epoch 6/12\n",
      "10000/10000 [==============================] - 2s 150us/sample - loss: 0.0059 - accuracy: 0.9650 - val_loss: 0.0057 - val_accuracy: 0.9700\n",
      "Epoch 7/12\n",
      "10000/10000 [==============================] - 2s 150us/sample - loss: 0.0052 - accuracy: 0.9699 - val_loss: 0.0059 - val_accuracy: 0.9800\n",
      "Epoch 8/12\n",
      "10000/10000 [==============================] - 2s 150us/sample - loss: 0.0045 - accuracy: 0.9742 - val_loss: 0.0057 - val_accuracy: 0.9700\n",
      "Epoch 9/12\n",
      "10000/10000 [==============================] - 2s 151us/sample - loss: 0.0041 - accuracy: 0.9760 - val_loss: 0.0045 - val_accuracy: 0.9800\n",
      "Epoch 10/12\n",
      "10000/10000 [==============================] - 2s 151us/sample - loss: 0.0034 - accuracy: 0.9817 - val_loss: 0.0041 - val_accuracy: 0.9800\n",
      "Epoch 11/12\n",
      "10000/10000 [==============================] - 2s 151us/sample - loss: 0.0030 - accuracy: 0.9839 - val_loss: 0.0043 - val_accuracy: 0.9800\n",
      "Epoch 12/12\n",
      "10000/10000 [==============================] - 2s 151us/sample - loss: 0.0027 - accuracy: 0.9847 - val_loss: 0.0043 - val_accuracy: 0.9800\n",
      "CNN Error: 2.00%\n"
     ]
    }
   ],
   "source": [
    "model.fit(X_train, y_train, validation_data=(X_test, y_test), epochs=12, batch_size=200, verbose=1)\n",
    "scores = model.evaluate(X_test, y_test, verbose=0)\n",
    "print(\"CNN Error: %.2f%%\" % (100-scores[1]*100))"
   ]
  },
  {
   "cell_type": "markdown",
   "metadata": {},
   "source": [
    "### Application of the same NN architecture to planar images\n",
    "\n",
    "We apply standard NN to the same dataset to compare the performance. Example adapted from https://keras.io/examples/mnist_cnn/"
   ]
  },
  {
   "cell_type": "code",
   "execution_count": 10,
   "metadata": {},
   "outputs": [],
   "source": [
    "batch_size = 128\n",
    "num_classes = 10\n",
    "epochs = 12"
   ]
  },
  {
   "cell_type": "code",
   "execution_count": 11,
   "metadata": {},
   "outputs": [],
   "source": [
    "(x_train, y_train), (x_test, y_test) = mnist.load_data()\n",
    "img_rows, img_cols = 28, 28\n",
    "\n",
    "if K.image_data_format() == 'channels_first':\n",
    "    x_train = x_train.reshape(x_train.shape[0], 1, img_rows, img_cols)\n",
    "    x_test = x_test.reshape(x_test.shape[0], 1, img_rows, img_cols)\n",
    "    input_shape = (1, img_rows, img_cols)\n",
    "else:\n",
    "    x_train = x_train.reshape(x_train.shape[0], img_rows, img_cols, 1)\n",
    "    x_test = x_test.reshape(x_test.shape[0], img_rows, img_cols, 1)\n",
    "    input_shape = (img_rows, img_cols, 1)"
   ]
  },
  {
   "cell_type": "code",
   "execution_count": 12,
   "metadata": {},
   "outputs": [],
   "source": [
    "seed = 7\n",
    "np.random.seed(seed)"
   ]
  },
  {
   "cell_type": "code",
   "execution_count": 13,
   "metadata": {},
   "outputs": [
    {
     "data": {
      "text/plain": [
       "(10000,)"
      ]
     },
     "execution_count": 13,
     "metadata": {},
     "output_type": "execute_result"
    }
   ],
   "source": [
    "y_test.shape"
   ]
  },
  {
   "cell_type": "code",
   "execution_count": 14,
   "metadata": {},
   "outputs": [
    {
     "name": "stdout",
     "output_type": "stream",
     "text": [
      "x_train shape: (60000, 28, 28, 1)\n",
      "60000 train samples\n",
      "10000 test samples\n"
     ]
    }
   ],
   "source": [
    "x_train = x_train.astype('float32')\n",
    "x_test = x_test.astype('float32')\n",
    "x_train /= 255\n",
    "x_test /= 255\n",
    "print('x_train shape:', x_train.shape)\n",
    "print(x_train.shape[0], 'train samples')\n",
    "print(x_test.shape[0], 'test samples')"
   ]
  },
  {
   "cell_type": "code",
   "execution_count": 15,
   "metadata": {},
   "outputs": [],
   "source": [
    "y_train = tf.keras.utils.to_categorical(y_train, num_classes)\n",
    "y_test = tf.keras.utils.to_categorical(y_test, num_classes)"
   ]
  },
  {
   "cell_type": "code",
   "execution_count": 16,
   "metadata": {},
   "outputs": [
    {
     "name": "stdout",
     "output_type": "stream",
     "text": [
      "Train on 60000 samples, validate on 10000 samples\n",
      "Epoch 1/12\n",
      "60000/60000 [==============================] - 5s 79us/sample - loss: 0.2414 - accuracy: 0.9268 - val_loss: 0.0556 - val_accuracy: 0.9816\n",
      "Epoch 2/12\n",
      "60000/60000 [==============================] - 5s 76us/sample - loss: 0.0836 - accuracy: 0.9753 - val_loss: 0.0359 - val_accuracy: 0.9875\n",
      "Epoch 3/12\n",
      "60000/60000 [==============================] - 4s 74us/sample - loss: 0.0611 - accuracy: 0.9809 - val_loss: 0.0308 - val_accuracy: 0.9902\n",
      "Epoch 4/12\n",
      "60000/60000 [==============================] - 4s 74us/sample - loss: 0.0490 - accuracy: 0.9852 - val_loss: 0.0285 - val_accuracy: 0.9912\n",
      "Epoch 5/12\n",
      "60000/60000 [==============================] - 4s 74us/sample - loss: 0.0399 - accuracy: 0.9877 - val_loss: 0.0298 - val_accuracy: 0.9917\n",
      "Epoch 6/12\n",
      "60000/60000 [==============================] - 4s 74us/sample - loss: 0.0368 - accuracy: 0.9884 - val_loss: 0.0305 - val_accuracy: 0.9907\n",
      "Epoch 7/12\n",
      "60000/60000 [==============================] - 4s 74us/sample - loss: 0.0330 - accuracy: 0.9897 - val_loss: 0.0291 - val_accuracy: 0.9912\n",
      "Epoch 8/12\n",
      "60000/60000 [==============================] - 4s 74us/sample - loss: 0.0294 - accuracy: 0.9904 - val_loss: 0.0288 - val_accuracy: 0.9915\n",
      "Epoch 9/12\n",
      "60000/60000 [==============================] - 4s 75us/sample - loss: 0.0271 - accuracy: 0.9911 - val_loss: 0.0294 - val_accuracy: 0.9915\n",
      "Epoch 10/12\n",
      "60000/60000 [==============================] - 4s 75us/sample - loss: 0.0231 - accuracy: 0.9920 - val_loss: 0.0237 - val_accuracy: 0.9925\n",
      "Epoch 11/12\n",
      "60000/60000 [==============================] - 4s 75us/sample - loss: 0.0223 - accuracy: 0.9929 - val_loss: 0.0268 - val_accuracy: 0.9930\n",
      "Epoch 12/12\n",
      "60000/60000 [==============================] - 4s 75us/sample - loss: 0.0202 - accuracy: 0.9930 - val_loss: 0.0273 - val_accuracy: 0.9920\n",
      "CNN Error: 0.80%\n"
     ]
    }
   ],
   "source": [
    "model = tf.keras.Sequential()\n",
    "model.add(tf.keras.layers.Conv2D(32, kernel_size=(3, 3),\n",
    "                 activation='relu',\n",
    "                 input_shape=input_shape))\n",
    "model.add(tf.keras.layers.Conv2D(64, (3, 3), activation='relu'))\n",
    "model.add(tf.keras.layers.MaxPooling2D(pool_size=(2, 2)))\n",
    "model.add(tf.keras.layers.Dropout(0.25))\n",
    "model.add(tf.keras.layers.Flatten())\n",
    "model.add(tf.keras.layers.Dense(128, activation='relu'))\n",
    "model.add(tf.keras.layers.Dropout(0.5))\n",
    "model.add(tf.keras.layers.Dense(num_classes, activation='softmax'))\n",
    "\n",
    "model.compile(loss=tf.keras.losses.categorical_crossentropy,\n",
    "              optimizer=tf.keras.optimizers.Adam(lr=0.001),\n",
    "              metrics=['accuracy'])\n",
    "\n",
    "model.fit(x_train, y_train,\n",
    "          batch_size=batch_size,\n",
    "          epochs=epochs,\n",
    "          verbose=1,\n",
    "          validation_data=(x_test, y_test))\n",
    "scores = model.evaluate(x_test, y_test, verbose=0)\n",
    "print(\"CNN Error: %.2f%%\" % (100-scores[1]*100))\n"
   ]
  },
  {
   "cell_type": "markdown",
   "metadata": {
    "pycharm": {
     "name": "#%% md\n"
    }
   },
   "source": [
    "# Performances are comparable!\n",
    "\n",
    "\n",
    "\n"
   ]
  }
 ],
 "metadata": {
  "kernelspec": {
   "display_name": "Python 3",
   "language": "python",
   "name": "python3"
  },
  "language_info": {
   "codemirror_mode": {
    "name": "ipython",
    "version": 3
   },
   "file_extension": ".py",
   "mimetype": "text/x-python",
   "name": "python",
   "nbconvert_exporter": "python",
   "pygments_lexer": "ipython3",
   "version": "3.7.7"
  }
 },
 "nbformat": 4,
 "nbformat_minor": 4
}